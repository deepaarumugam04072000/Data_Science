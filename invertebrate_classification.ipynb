{
  "nbformat": 4,
  "nbformat_minor": 0,
  "metadata": {
    "colab": {
      "name": "invertebrate_classification.ipynb",
      "provenance": [],
      "collapsed_sections": []
    },
    "kernelspec": {
      "name": "python3",
      "display_name": "Python 3"
    }
  },
  "cells": [
    {
      "cell_type": "markdown",
      "metadata": {
        "id": "-4kA7gGmwey2",
        "colab_type": "text"
      },
      "source": [
        "In this notebook i handled invertebrate classification dataset and used linear regression as a model."
      ]
    },
    {
      "cell_type": "markdown",
      "metadata": {
        "id": "LABXauBJwef0",
        "colab_type": "text"
      },
      "source": [
        "## Importing Liabraries and dataset"
      ]
    },
    {
      "cell_type": "code",
      "metadata": {
        "id": "nZzuiIO3ogf3",
        "colab_type": "code",
        "colab": {
          "base_uri": "https://localhost:8080/",
          "height": 74
        },
        "outputId": "d8feadc1-ca2c-4278-e6d1-c95b73e51383"
      },
      "source": [
        "import pandas as pd\n",
        "import numpy as np\n",
        "import matplotlib.pyplot as plt\n",
        "import seaborn as sns"
      ],
      "execution_count": null,
      "outputs": [
        {
          "output_type": "stream",
          "text": [
            "/usr/local/lib/python3.6/dist-packages/statsmodels/tools/_testing.py:19: FutureWarning: pandas.util.testing is deprecated. Use the functions in the public API at pandas.testing instead.\n",
            "  import pandas.util.testing as tm\n"
          ],
          "name": "stderr"
        }
      ]
    },
    {
      "cell_type": "code",
      "metadata": {
        "id": "f43j-hWPo4EN",
        "colab_type": "code",
        "colab": {}
      },
      "source": [
        "data=pd.read_csv('https://raw.githubusercontent.com/dphi-official/Datasets/master/Invertebrate/Invertebrate_dataset.csv')\n"
      ],
      "execution_count": null,
      "outputs": []
    },
    {
      "cell_type": "code",
      "metadata": {
        "id": "UCUoWRa9pDTX",
        "colab_type": "code",
        "colab": {
          "base_uri": "https://localhost:8080/",
          "height": 198
        },
        "outputId": "21c74b02-6973-4f52-8884-c38fd0f01683"
      },
      "source": [
        "data.head()"
      ],
      "execution_count": null,
      "outputs": [
        {
          "output_type": "execute_result",
          "data": {
            "text/html": [
              "<div>\n",
              "<style scoped>\n",
              "    .dataframe tbody tr th:only-of-type {\n",
              "        vertical-align: middle;\n",
              "    }\n",
              "\n",
              "    .dataframe tbody tr th {\n",
              "        vertical-align: top;\n",
              "    }\n",
              "\n",
              "    .dataframe thead th {\n",
              "        text-align: right;\n",
              "    }\n",
              "</style>\n",
              "<table border=\"1\" class=\"dataframe\">\n",
              "  <thead>\n",
              "    <tr style=\"text-align: right;\">\n",
              "      <th></th>\n",
              "      <th>SWI</th>\n",
              "      <th>SWF</th>\n",
              "      <th>temperature</th>\n",
              "      <th>size</th>\n",
              "      <th>management</th>\n",
              "      <th>duration</th>\n",
              "    </tr>\n",
              "  </thead>\n",
              "  <tbody>\n",
              "    <tr>\n",
              "      <th>0</th>\n",
              "      <td>0.59</td>\n",
              "      <td>1.30</td>\n",
              "      <td>3.5</td>\n",
              "      <td>0.5</td>\n",
              "      <td>2</td>\n",
              "      <td>20</td>\n",
              "    </tr>\n",
              "    <tr>\n",
              "      <th>1</th>\n",
              "      <td>1.21</td>\n",
              "      <td>1.85</td>\n",
              "      <td>4.6</td>\n",
              "      <td>47.2</td>\n",
              "      <td>3</td>\n",
              "      <td>19</td>\n",
              "    </tr>\n",
              "    <tr>\n",
              "      <th>2</th>\n",
              "      <td>1.08</td>\n",
              "      <td>0.97</td>\n",
              "      <td>4.8</td>\n",
              "      <td>53.3</td>\n",
              "      <td>4</td>\n",
              "      <td>22</td>\n",
              "    </tr>\n",
              "    <tr>\n",
              "      <th>3</th>\n",
              "      <td>1.60</td>\n",
              "      <td>1.67</td>\n",
              "      <td>5.2</td>\n",
              "      <td>27.2</td>\n",
              "      <td>8</td>\n",
              "      <td>20</td>\n",
              "    </tr>\n",
              "    <tr>\n",
              "      <th>4</th>\n",
              "      <td>2.95</td>\n",
              "      <td>2.41</td>\n",
              "      <td>5.7</td>\n",
              "      <td>38.8</td>\n",
              "      <td>6</td>\n",
              "      <td>22</td>\n",
              "    </tr>\n",
              "  </tbody>\n",
              "</table>\n",
              "</div>"
            ],
            "text/plain": [
              "    SWI   SWF  temperature  size  management  duration\n",
              "0  0.59  1.30          3.5   0.5           2        20\n",
              "1  1.21  1.85          4.6  47.2           3        19\n",
              "2  1.08  0.97          4.8  53.3           4        22\n",
              "3  1.60  1.67          5.2  27.2           8        20\n",
              "4  2.95  2.41          5.7  38.8           6        22"
            ]
          },
          "metadata": {
            "tags": []
          },
          "execution_count": 3
        }
      ]
    },
    {
      "cell_type": "code",
      "metadata": {
        "id": "GgVn0urxpr_o",
        "colab_type": "code",
        "colab": {
          "base_uri": "https://localhost:8080/",
          "height": 254
        },
        "outputId": "ddb84044-b023-43da-bdda-9de0c184f26e"
      },
      "source": [
        "data.info()"
      ],
      "execution_count": null,
      "outputs": [
        {
          "output_type": "stream",
          "text": [
            "<class 'pandas.core.frame.DataFrame'>\n",
            "RangeIndex: 280 entries, 0 to 279\n",
            "Data columns (total 6 columns):\n",
            " #   Column       Non-Null Count  Dtype  \n",
            "---  ------       --------------  -----  \n",
            " 0   SWI          280 non-null    float64\n",
            " 1   SWF          280 non-null    float64\n",
            " 2   temperature  280 non-null    float64\n",
            " 3   size         280 non-null    float64\n",
            " 4   management   280 non-null    int64  \n",
            " 5   duration     280 non-null    int64  \n",
            "dtypes: float64(4), int64(2)\n",
            "memory usage: 13.2 KB\n"
          ],
          "name": "stdout"
        }
      ]
    },
    {
      "cell_type": "code",
      "metadata": {
        "id": "VJdXBPcFpub4",
        "colab_type": "code",
        "colab": {
          "base_uri": "https://localhost:8080/",
          "height": 145
        },
        "outputId": "35b9c030-6790-48ef-8625-18dddfb851fa"
      },
      "source": [
        "data.isnull().sum()"
      ],
      "execution_count": null,
      "outputs": [
        {
          "output_type": "execute_result",
          "data": {
            "text/plain": [
              "SWI            0\n",
              "SWF            0\n",
              "temperature    0\n",
              "size           0\n",
              "management     0\n",
              "duration       0\n",
              "dtype: int64"
            ]
          },
          "metadata": {
            "tags": []
          },
          "execution_count": 5
        }
      ]
    },
    {
      "cell_type": "code",
      "metadata": {
        "id": "S-_ZAh4ip34p",
        "colab_type": "code",
        "colab": {
          "base_uri": "https://localhost:8080/",
          "height": 283
        },
        "outputId": "09f57934-6654-4535-a4d8-6bb1190689cc"
      },
      "source": [
        "plt.plot(data.SWI,data.SWF)"
      ],
      "execution_count": null,
      "outputs": [
        {
          "output_type": "execute_result",
          "data": {
            "text/plain": [
              "[<matplotlib.lines.Line2D at 0x7faba48a5320>]"
            ]
          },
          "metadata": {
            "tags": []
          },
          "execution_count": 6
        },
        {
          "output_type": "display_data",
          "data": {
            "image/png": "[encoded data removed]",
            "text/plain": [
              "<Figure size 432x288 with 1 Axes>"
            ]
          },
          "metadata": {
            "tags": [],
            "needs_background": "light"
          }
        }
      ]
    },
    {
      "cell_type": "markdown",
      "metadata": {
        "id": "n2w3CWPJxGfZ",
        "colab_type": "text"
      },
      "source": [
        "## Data splitting"
      ]
    },
    {
      "cell_type": "code",
      "metadata": {
        "id": "yKA3lAhOqDSk",
        "colab_type": "code",
        "colab": {}
      },
      "source": [
        "x=data.drop(['SWI'],axis=1)\n",
        "y=data.SWI"
      ],
      "execution_count": null,
      "outputs": []
    },
    {
      "cell_type": "code",
      "metadata": {
        "id": "H4wLubmaqP9H",
        "colab_type": "code",
        "colab": {}
      },
      "source": [
        "from sklearn.model_selection import train_test_split\n",
        "x_train,x_test,y_train,y_test=train_test_split(x,y,test_size=0.2,random_state=10)"
      ],
      "execution_count": null,
      "outputs": []
    },
    {
      "cell_type": "markdown",
      "metadata": {
        "id": "ccmr-uSKxVua",
        "colab_type": "text"
      },
      "source": [
        "## Linear regression model"
      ]
    },
    {
      "cell_type": "code",
      "metadata": {
        "id": "cDv_Mh2zyhff",
        "colab_type": "code",
        "colab": {}
      },
      "source": [
        "from sklearn.linear_model import LinearRegression\n",
        "model=LinearRegression()"
      ],
      "execution_count": null,
      "outputs": []
    },
    {
      "cell_type": "code",
      "metadata": {
        "id": "Xdvrtaxr09Jm",
        "colab_type": "code",
        "colab": {
          "base_uri": "https://localhost:8080/",
          "height": 35
        },
        "outputId": "ce0cea1b-a4b8-4202-fb43-74218315ee66"
      },
      "source": [
        "model.fit(x_train,y_train)"
      ],
      "execution_count": null,
      "outputs": [
        {
          "output_type": "execute_result",
          "data": {
            "text/plain": [
              "LinearRegression(copy_X=True, fit_intercept=True, n_jobs=None, normalize=False)"
            ]
          },
          "metadata": {
            "tags": []
          },
          "execution_count": 10
        }
      ]
    },
    {
      "cell_type": "code",
      "metadata": {
        "id": "XBlbRp_31Cxg",
        "colab_type": "code",
        "colab": {}
      },
      "source": [
        "y_pred=model.predict(x_test)\n",
        "y_pred=np.round(y_pred,2)"
      ],
      "execution_count": null,
      "outputs": []
    },
    {
      "cell_type": "markdown",
      "metadata": {
        "id": "U6X75VE-xpIX",
        "colab_type": "text"
      },
      "source": [
        "## Performance Evaluation"
      ]
    },
    {
      "cell_type": "code",
      "metadata": {
        "id": "4exLfRX91b1K",
        "colab_type": "code",
        "colab": {
          "base_uri": "https://localhost:8080/",
          "height": 635
        },
        "outputId": "4d595506-ebd2-47c6-c712-e60225e77a9e"
      },
      "source": [
        "from sklearn.metrics import mean_squared_error,r2_score\n",
        "x_pred = model.predict(x_train)\n",
        "x_pred=np.round(x_pred,2)\n",
        "rmse=np.sqrt(mean_squared_error(y_test,y_pred))\n",
        "r2 = r2_score(y_test, y_pred)\n",
        "\n",
        "# Examine the first 10 predicted output from the model\n",
        "output = pd.DataFrame(y_train[0:10])\n",
        "output['Predicted'] =x_pred[0:10]\n",
        "output['Difference'] = output['Predicted'] - output['SWI']\n",
        "print(output, \"\\n\")\n",
        "\n",
        "print(\"Model training performance:\")\n",
        "print(\"---------------------------\")\n",
        "print('RMSE is {}'.format(rmse))\n",
        "print('R2 score is {}'.format(r2))\n",
        "print(\"\\n\")\n",
        "\n",
        "# Model evaluation for testing set\n",
        "rmse = (np.sqrt(mean_squared_error(y_test, y_pred)))\n",
        "r2 = r2_score(y_test, y_pred)\n",
        "\n",
        "output = pd.DataFrame(y_test[0:10])\n",
        "output['Predicted'] = y_pred[0:10]\n",
        "output['Difference'] = output['Predicted'] - output['SWI']\n",
        "print(output, \"\\n\")\n",
        "\n",
        "print(\"Model testing performance:\")\n",
        "print(\"--------------------------\")\n",
        "print('RMSE is {}'.format(rmse))\n",
        "print('R2 score is {}'.format(r2))"
      ],
      "execution_count": null,
      "outputs": [
        {
          "output_type": "stream",
          "text": [
            "      SWI  Predicted  Difference\n",
            "59   1.74       1.66       -0.08\n",
            "169  3.04       2.21       -0.83\n",
            "255  1.98       1.51       -0.47\n",
            "187  1.81       1.73       -0.08\n",
            "223  2.10       1.90       -0.20\n",
            "180  2.08       2.08        0.00\n",
            "155  1.52       2.00        0.48\n",
            "105  1.50       1.69        0.19\n",
            "20   2.00       1.93       -0.07\n",
            "38   1.47       1.81        0.34 \n",
            "\n",
            "Model training performance:\n",
            "---------------------------\n",
            "RMSE is 0.37680280936168337\n",
            "R2 score is 0.6239055153520321\n",
            "\n",
            "\n",
            "      SWI  Predicted  Difference\n",
            "157  1.68       1.69        0.01\n",
            "207  1.94       1.93       -0.01\n",
            "224  2.16       1.34       -0.82\n",
            "114  3.20       2.47       -0.73\n",
            "47   1.29       1.43        0.14\n",
            "43   1.56       1.71        0.15\n",
            "25   1.61       1.23       -0.38\n",
            "246  1.91       1.68       -0.23\n",
            "26   2.47       2.36       -0.11\n",
            "193  0.78       0.85        0.07 \n",
            "\n",
            "Model testing performance:\n",
            "--------------------------\n",
            "RMSE is 0.37680280936168337\n",
            "R2 score is 0.6239055153520321\n"
          ],
          "name": "stdout"
        }
      ]
    },
    {
      "cell_type": "markdown",
      "metadata": {
        "id": "Eklgt7k4xxCB",
        "colab_type": "text"
      },
      "source": [
        "## Processing test dataset"
      ]
    },
    {
      "cell_type": "code",
      "metadata": {
        "id": "Z6JOW-k6d5yW",
        "colab_type": "code",
        "colab": {}
      },
      "source": [
        "test= pd.read_csv('https://raw.githubusercontent.com/dphi-official/Datasets/master/Invertebrate/Invertebrate_new_test_data.csv')\n"
      ],
      "execution_count": null,
      "outputs": []
    },
    {
      "cell_type": "code",
      "metadata": {
        "id": "OpyuvyxBmt0Z",
        "colab_type": "code",
        "colab": {
          "base_uri": "https://localhost:8080/",
          "height": 217
        },
        "outputId": "a3c1aa34-5c09-478b-f322-c2c06503553f"
      },
      "source": [
        "Y_pred=model.predict(test)\n",
        "np.round(Y_pred,2)"
      ],
      "execution_count": null,
      "outputs": [
        {
          "output_type": "execute_result",
          "data": {
            "text/plain": [
              "array([1.66, 2.01, 2.42, 2.71, 1.79, 3.2 , 2.43, 2.33, 1.99, 2.  , 2.48,\n",
              "       2.23, 1.92, 2.99, 1.76, 2.11, 2.41, 1.95, 1.96, 2.03, 2.83, 1.79,\n",
              "       2.6 , 2.32, 2.91, 2.4 , 1.79, 2.05, 3.13, 1.67, 2.33, 2.08, 2.94,\n",
              "       2.82, 1.83, 2.89, 2.91, 2.48, 1.79, 1.84, 1.61, 2.63, 2.92, 2.89,\n",
              "       2.26, 2.79, 1.73, 2.14, 2.76, 3.06, 1.82, 2.79, 2.76, 2.55, 2.29,\n",
              "       1.84, 2.4 , 1.42, 1.96, 2.68, 2.63, 2.75, 2.11, 2.64, 2.22, 2.31,\n",
              "       2.35, 1.54, 1.92, 2.96, 3.56, 1.21, 2.7 , 2.4 , 3.12, 2.13, 1.63,\n",
              "       3.  , 2.68, 1.82, 2.52, 2.13, 2.62, 3.43, 2.93, 3.04, 2.99, 2.93,\n",
              "       2.12, 3.2 , 2.34, 2.35, 2.33, 3.09, 1.93, 2.63, 1.98, 2.16, 2.36,\n",
              "       2.78, 2.35, 1.58, 1.82, 2.8 , 3.4 , 2.27, 2.07, 2.03, 1.88, 2.24,\n",
              "       2.45, 3.29, 2.25, 1.52, 2.34, 2.14, 2.37, 2.1 , 2.92, 2.84])"
            ]
          },
          "metadata": {
            "tags": []
          },
          "execution_count": 14
        }
      ]
    },
    {
      "cell_type": "code",
      "metadata": {
        "id": "kKf-JN4bd2pA",
        "colab_type": "code",
        "colab": {
          "base_uri": "https://localhost:8080/",
          "height": 17
        },
        "outputId": "fcfd8f1a-4dcc-4c74-96f5-d4b2f26c6c3c"
      },
      "source": [
        "res = pd.DataFrame(Y_pred)\n",
        "res.index = test.index # its important for comparison\n",
        "res.columns = [\"prediction\"]\n",
        "\n",
        "# To download the csv file locally\n",
        "from google.colab import files\n",
        "res.to_csv('prediction_results_HP.csv')         \n",
        "files.download('prediction_results_HP.csv')"
      ],
      "execution_count": null,
      "outputs": [
        {
          "output_type": "display_data",
          "data": {
            "application/javascript": [
              "\n",
              "    async function download(id, filename, size) {\n",
              "      if (!google.colab.kernel.accessAllowed) {\n",
              "        return;\n",
              "      }\n",
              "      const div = document.createElement('div');\n",
              "      const label = document.createElement('label');\n",
              "      label.textContent = `Downloading \"${filename}\": `;\n",
              "      div.appendChild(label);\n",
              "      const progress = document.createElement('progress');\n",
              "      progress.max = size;\n",
              "      div.appendChild(progress);\n",
              "      document.body.appendChild(div);\n",
              "\n",
              "      const buffers = [];\n",
              "      let downloaded = 0;\n",
              "\n",
              "      const channel = await google.colab.kernel.comms.open(id);\n",
              "      // Send a message to notify the kernel that we're ready.\n",
              "      channel.send({})\n",
              "\n",
              "      for await (const message of channel.messages) {\n",
              "        // Send a message to notify the kernel that we're ready.\n",
              "        channel.send({})\n",
              "        if (message.buffers) {\n",
              "          for (const buffer of message.buffers) {\n",
              "            buffers.push(buffer);\n",
              "            downloaded += buffer.byteLength;\n",
              "            progress.value = downloaded;\n",
              "          }\n",
              "        }\n",
              "      }\n",
              "      const blob = new Blob(buffers, {type: 'application/binary'});\n",
              "      const a = document.createElement('a');\n",
              "      a.href = window.URL.createObjectURL(blob);\n",
              "      a.download = filename;\n",
              "      div.appendChild(a);\n",
              "      a.click();\n",
              "      div.remove();\n",
              "    }\n",
              "  "
            ],
            "text/plain": [
              "<IPython.core.display.Javascript object>"
            ]
          },
          "metadata": {
            "tags": []
          }
        },
        {
          "output_type": "display_data",
          "data": {
            "application/javascript": [
              "download(\"download_9faf687e-f7f6-4018-8b97-8535b49df5ac\", \"prediction_results_HP.csv\", 2604)"
            ],
            "text/plain": [
              "<IPython.core.display.Javascript object>"
            ]
          },
          "metadata": {
            "tags": []
          }
        }
      ]
    }
  ]
}